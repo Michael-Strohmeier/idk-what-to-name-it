{
  "nbformat": 4,
  "nbformat_minor": 0,
  "metadata": {
    "colab": {
      "name": "realtime.ipynb",
      "provenance": []
    },
    "kernelspec": {
      "name": "python3",
      "display_name": "Python 3"
    }
  },
  "cells": [
    {
      "cell_type": "code",
      "metadata": {
        "id": "fN0msUGuntha",
        "colab_type": "code",
        "colab": {}
      },
      "source": [
        "import numpy as np\n",
        "import pandas as pd"
      ],
      "execution_count": 1,
      "outputs": []
    },
    {
      "cell_type": "code",
      "metadata": {
        "id": "VqMIa44fptm3",
        "colab_type": "code",
        "colab": {}
      },
      "source": [
        "df = pd.read_csv(\"sample_data.csv\")\n",
        "\n",
        "# probably change key to machine_key and add a factory_key\n",
        "df[\"key\"] = df[\"PID\"].astype('str')"
      ],
      "execution_count": 2,
      "outputs": []
    },
    {
      "cell_type": "code",
      "metadata": {
        "id": "kmlnFO2Jpv9N",
        "colab_type": "code",
        "colab": {}
      },
      "source": [
        "PIDs = list(df[\"key\"].unique())\n",
        "PIDs.sort()"
      ],
      "execution_count": 3,
      "outputs": []
    },
    {
      "cell_type": "code",
      "metadata": {
        "id": "DLr2b43dOrz9",
        "colab_type": "code",
        "colab": {
          "base_uri": "https://localhost:8080/",
          "height": 142
        },
        "outputId": "3e9c1a46-67ae-457d-ed3f-8161ba26bc86"
      },
      "source": [
        "df.head(3)"
      ],
      "execution_count": 4,
      "outputs": [
        {
          "output_type": "execute_result",
          "data": {
            "text/html": [
              "<div>\n",
              "<style scoped>\n",
              "    .dataframe tbody tr th:only-of-type {\n",
              "        vertical-align: middle;\n",
              "    }\n",
              "\n",
              "    .dataframe tbody tr th {\n",
              "        vertical-align: top;\n",
              "    }\n",
              "\n",
              "    .dataframe thead th {\n",
              "        text-align: right;\n",
              "    }\n",
              "</style>\n",
              "<table border=\"1\" class=\"dataframe\">\n",
              "  <thead>\n",
              "    <tr style=\"text-align: right;\">\n",
              "      <th></th>\n",
              "      <th>footfall</th>\n",
              "      <th>atemp</th>\n",
              "      <th>selfLR</th>\n",
              "      <th>ClinLR</th>\n",
              "      <th>DoleLR</th>\n",
              "      <th>PID</th>\n",
              "      <th>outpressure</th>\n",
              "      <th>inpressure</th>\n",
              "      <th>temp</th>\n",
              "      <th>fail</th>\n",
              "      <th>key</th>\n",
              "    </tr>\n",
              "  </thead>\n",
              "  <tbody>\n",
              "    <tr>\n",
              "      <th>0</th>\n",
              "      <td>0</td>\n",
              "      <td>7</td>\n",
              "      <td>7</td>\n",
              "      <td>1</td>\n",
              "      <td>6</td>\n",
              "      <td>6</td>\n",
              "      <td>36</td>\n",
              "      <td>3</td>\n",
              "      <td>1</td>\n",
              "      <td>pass</td>\n",
              "      <td>6</td>\n",
              "    </tr>\n",
              "    <tr>\n",
              "      <th>1</th>\n",
              "      <td>190</td>\n",
              "      <td>1</td>\n",
              "      <td>3</td>\n",
              "      <td>3</td>\n",
              "      <td>5</td>\n",
              "      <td>1</td>\n",
              "      <td>20</td>\n",
              "      <td>4</td>\n",
              "      <td>1</td>\n",
              "      <td>fail</td>\n",
              "      <td>1</td>\n",
              "    </tr>\n",
              "    <tr>\n",
              "      <th>2</th>\n",
              "      <td>31</td>\n",
              "      <td>7</td>\n",
              "      <td>2</td>\n",
              "      <td>2</td>\n",
              "      <td>6</td>\n",
              "      <td>1</td>\n",
              "      <td>24</td>\n",
              "      <td>6</td>\n",
              "      <td>1</td>\n",
              "      <td>fail</td>\n",
              "      <td>1</td>\n",
              "    </tr>\n",
              "  </tbody>\n",
              "</table>\n",
              "</div>"
            ],
            "text/plain": [
              "  footfall atemp selfLR ClinLR  DoleLR  ...  outpressure  inpressure  temp  fail key\n",
              "0        0     7      7      1       6  ...           36           3     1  pass   6\n",
              "1      190     1      3      3       5  ...           20           4     1  fail   1\n",
              "2       31     7      2      2       6  ...           24           6     1  fail   1\n",
              "\n",
              "[3 rows x 11 columns]"
            ]
          },
          "metadata": {
            "tags": []
          },
          "execution_count": 4
        }
      ]
    },
    {
      "cell_type": "code",
      "metadata": {
        "id": "_AQ8NE-mpwWM",
        "colab_type": "code",
        "colab": {}
      },
      "source": [
        "def split(df: pd.DataFrame):\n",
        "  \"\"\"\n",
        "  splits data into a bunch of groups to simulate live data... just a quick hack\n",
        "  \"\"\"\n",
        "  temp = []\n",
        "  num_chunks = int(len(df)/11)\n",
        "  for i in range(num_chunks):\n",
        "    temp.append(df[i:i+10])\n",
        "\n",
        "  return temp"
      ],
      "execution_count": 5,
      "outputs": []
    },
    {
      "cell_type": "code",
      "metadata": {
        "id": "vbmPDjs5tgxT",
        "colab_type": "code",
        "colab": {}
      },
      "source": [
        "class Machine:\n",
        "  def __init__(self, machine_key: str):\n",
        "    self.machine_key = machine_key\n",
        "    self.samples_to_save = 5\n",
        "    self.historic = dict({})\n",
        "    self.columns = None\n",
        "\n",
        "  def update_historic(self, data: pd.Series):\n",
        "    key = data[\"key\"]\n",
        "    if key in self.historic:\n",
        "      self.historic.get(key).append(data.values)\n",
        "      if len(self.historic.get(key)) > self.samples_to_save:\n",
        "        self.historic[key] = self.historic.get(key)[-self.samples_to_save:]\n",
        "    else:\n",
        "      self.historic[key] = [data.values]\n",
        "      self.columns = data.index"
      ],
      "execution_count": 11,
      "outputs": []
    },
    {
      "cell_type": "code",
      "metadata": {
        "id": "LBeqmxMo-upa",
        "colab_type": "code",
        "colab": {}
      },
      "source": [
        "class Factory:\n",
        "  def __init__(self):\n",
        "    self.machines = dict({})\n",
        "\n",
        "  def add_machine(self, machine_key: str, machine: Machine):\n",
        "    self.machines[machine_key] = Machine(machine_key)\n",
        "\n",
        "  def update_machine(self, machine_key: str, data_stream: pd.DataFrame):\n",
        "    if machine_key in self.machines:\n",
        "      self.machines[machine_key].update_historic(data_stream)\n",
        "    else:\n",
        "      machine = Machine(machine_key)\n",
        "      machine.update_historic(data_stream)\n",
        "      self.add_machine(machine_key, machine)"
      ],
      "execution_count": 12,
      "outputs": []
    },
    {
      "cell_type": "code",
      "metadata": {
        "id": "9_oQSXCrO7pl",
        "colab_type": "code",
        "colab": {}
      },
      "source": [
        "def simulate_factory_running(simulated_data):\n",
        "  factory = Factory()\n",
        "  for data_stream in simulated_data:\n",
        "    for i in range(len(data_stream)):\n",
        "      machine_key = data_stream.iloc[i][\"key\"]\n",
        "      factory.update_machine(machine_key, data_stream.iloc[i])\n",
        "\n",
        "  return factory"
      ],
      "execution_count": 13,
      "outputs": []
    },
    {
      "cell_type": "code",
      "metadata": {
        "id": "lAOgsNyMPJl-",
        "colab_type": "code",
        "colab": {}
      },
      "source": [
        "def print_factory_machine_data(factory):\n",
        "  for machine_key in factory.machines.keys():\n",
        "    print(factory.machines[machine_key].historic)"
      ],
      "execution_count": 14,
      "outputs": []
    },
    {
      "cell_type": "code",
      "metadata": {
        "id": "3uNphkd2PKMN",
        "colab_type": "code",
        "colab": {
          "base_uri": "https://localhost:8080/",
          "height": 190
        },
        "outputId": "23b1240b-7e4a-4d4b-9d70-d5d068693c50"
      },
      "source": [
        "simulated_data = split(df)\n",
        "factory = simulate_factory_running(simulated_data)\n",
        "\n",
        "print_factory_machine_data(factory)"
      ],
      "execution_count": 15,
      "outputs": [
        {
          "output_type": "stream",
          "text": [
            "{'6': [array(['15', '7', '6', '2', 6, 6, 59, 1, '5', 'pass', '6'], dtype=object), array(['15', '7', '6', '2', 6, 6, 59, 1, '5', 'pass', '6'], dtype=object), array(['31', '2', '3', '4', 6, 6, 20, 4, '6', 'pass', '6'], dtype=object), array(['31', '2', '3', '4', 6, 6, 20, 4, '6', 'pass', '6'], dtype=object), array(['31', '2', '3', '4', 6, 6, 20, 4, '6', 'pass', '6'], dtype=object)]}\n",
            "{'1': [array(['59', '5', '3', '3', 5, 1, 73, 5, '5', 'fail', '1'], dtype=object), array(['59', '5', '3', '3', 5, 1, 73, 5, '5', 'fail', '1'], dtype=object), array(['59', '5', '3', '3', 5, 1, 73, 5, '5', 'fail', '1'], dtype=object), array(['59', '5', '3', '3', 5, 1, 73, 5, '5', 'fail', '1'], dtype=object), array(['1600', '1', '3', '3', 6, 1, 24, 6, '6', 'fail', '1'], dtype=object)]}\n",
            "{'0': [array(['31', '7', '2', '2', 7, 0, 22, 4, '6', 'fail', '0'], dtype=object), array(['35', '7', '3', '2', 5, 0, 71, 2, '5', 'fail', '0'], dtype=object), array(['170', '7', '4', '3', 2, 0, 48, 2, '6', 'fail', '0'], dtype=object), array(['40', '4', '6', '5', 4, 0, 72, 2, '6', 'fail', '0'], dtype=object), array(['31', '7', '2', '2', 7, 0, 22, 4, '6', 'fail', '0'], dtype=object)]}\n",
            "{'4': [array(['0', '2', '6', '4', 5, 4, 34, 4, '5', 'pass', '4'], dtype=object), array(['0', '2', '6', '4', 5, 4, 34, 4, '5', 'pass', '4'], dtype=object), array(['0', '2', '6', '4', 5, 4, 34, 4, '5', 'pass', '4'], dtype=object), array(['0', '2', '6', '4', 5, 4, 34, 4, '5', 'pass', '4'], dtype=object), array(['0', '2', '6', '4', 5, 4, 34, 4, '5', 'pass', '4'], dtype=object)]}\n",
            "{'3': [array(['0', '7', '3', '4', 5, 3, 30, 3, '5', 'fail', '3'], dtype=object), array(['0', '7', '4', '5', 2, 3, 73, 3, '5', 'fail', '3'], dtype=object), array(['0', '7', '3', '4', 5, 3, 30, 3, '5', 'fail', '3'], dtype=object), array(['0', '7', '4', '5', 2, 3, 73, 3, '5', 'fail', '3'], dtype=object), array(['0', '7', '4', '5', 2, 3, 73, 3, '5', 'fail', '3'], dtype=object)]}\n",
            "{'5': [array(['12', '1', '6', '2', 6, 5, 42, 4, '6', 'pass', '5'], dtype=object), array(['12', '1', '6', '2', 6, 5, 42, 4, '6', 'pass', '5'], dtype=object), array(['12', '1', '6', '2', 6, 5, 42, 4, '6', 'pass', '5'], dtype=object), array(['12', '1', '6', '2', 6, 5, 42, 4, '6', 'pass', '5'], dtype=object), array(['12', '1', '6', '2', 6, 5, 42, 4, '6', 'pass', '5'], dtype=object)]}\n",
            "{'2': [array(['390', '7', '3', '6', 2, 2, 24, 3, '5', 'fail', '2'], dtype=object), array(['0', '6', '4', '3', 6, 2, 91, 1, '5', 'fail', '2'], dtype=object), array(['0', '6', '4', '3', 6, 2, 91, 1, '5', 'fail', '2'], dtype=object), array(['0', '6', '4', '3', 6, 2, 91, 1, '5', 'fail', '2'], dtype=object), array(['0', '6', '4', '3', 6, 2, 91, 1, '5', 'fail', '2'], dtype=object)]}\n",
            "{'-2': [array(['0', '0', '9', '2', 1, -2, 47, 6, '3', nan, '-2'], dtype=object), array(['0', '0', '9', '2', 1, -2, 47, 6, '3', nan, '-2'], dtype=object), array(['0', '0', '9', '2', 1, -2, 47, 6, '3', nan, '-2'], dtype=object), array(['0', '0', '9', '2', 1, -2, 47, 6, '3', nan, '-2'], dtype=object), array(['0', '0', '9', '2', 1, -2, 47, 6, '3', nan, '-2'], dtype=object)]}\n",
            "{'7': [array(['na', '7', '1', '8', 4, 7, 2, 5, 'fail', nan, '7'], dtype=object), array(['na', '7', '1', '8', 4, 7, 2, 5, 'fail', nan, '7'], dtype=object), array(['na', '7', '1', '8', 4, 7, 2, 5, 'fail', nan, '7'], dtype=object), array(['na', '7', '1', '8', 4, 7, 2, 5, 'fail', nan, '7'], dtype=object), array(['na', '7', '1', '8', 4, 7, 2, 5, 'fail', nan, '7'], dtype=object)]}\n"
          ],
          "name": "stdout"
        }
      ]
    },
    {
      "cell_type": "code",
      "metadata": {
        "id": "5jNVLszFYXfa",
        "colab_type": "code",
        "colab": {}
      },
      "source": [
        ""
      ],
      "execution_count": null,
      "outputs": []
    }
  ]
}
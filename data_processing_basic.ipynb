{
  "nbformat": 4,
  "nbformat_minor": 0,
  "metadata": {
    "colab": {
      "name": "data_processing_basic.ipynb",
      "provenance": [],
      "collapsed_sections": []
    },
    "kernelspec": {
      "name": "python3",
      "display_name": "Python 3"
    }
  },
  "cells": [
    {
      "cell_type": "code",
      "metadata": {
        "id": "KTE6FzkV1Xgl",
        "colab_type": "code",
        "colab": {}
      },
      "source": [
        "import pandas as pd\n",
        "from sklearn.utils import shuffle\n",
        "\n",
        "class DataReader():\n",
        "  def __init__(self, file_path: str):\n",
        "    self.file_path = file_path\n",
        "    self.df = self.load_data()\n",
        "\n",
        "  def get_file_extension(self) -> str:\n",
        "    file_extension = self.file_path.split('.')[-1]\n",
        "    return file_extension\n",
        "\n",
        "  def load_data(self):\n",
        "    file_extension = self.get_file_extension()\n",
        "    if file_extension == 'csv':\n",
        "      df = pd.read_csv(self.file_path)\n",
        "\n",
        "    return df\n",
        "\n",
        "  def train_test_split(self, percent_train: int, shuffle_data=True):\n",
        "    dataset_length = len(self.df)\n",
        "    n = int(dataset_length*(percent_train/100))\n",
        "\n",
        "    if shuffle_data:\n",
        "      self.df = shuffle(self.df)\n",
        "\n",
        "    train = self.df[:n]\n",
        "    test = self.df[n:]\n",
        "\n",
        "    return train, test\n",
        "\n",
        "  def drop_nan(self, column_name: str):\n",
        "    self.df.dropna(subset=[column_name], inplace=True)\n",
        "\n",
        "  def categorical_to_numerical(self, column_name: str) -> dict:\n",
        "    \"\"\"\n",
        "    drops all NaN values\n",
        "    convert self.df[column_name] to numerical data\n",
        "\n",
        "    numerical_key = the key code that corresponds to its respective categorical data\n",
        "    return dict({numerical_key: categorical_data})\n",
        "    \"\"\"\n",
        "    self.df.dropna(subset=[column_name], inplace=True)\n",
        "\n",
        "    categorical_dict = dict({})\n",
        "    for i, data in enumerate(self.df[column_name].unique()):\n",
        "      categorical_dict[data] = i\n",
        "\n",
        "    self.df = self.df.replace({column_name: categorical_dict})\n",
        "    \n",
        "    return categorical_dict\n",
        "\n",
        "  def value_counts(self, column_name):\n",
        "    return self.df[column_name].value_counts()"
      ],
      "execution_count": null,
      "outputs": []
    },
    {
      "cell_type": "code",
      "metadata": {
        "id": "NqRNV8A04BAq",
        "colab_type": "code",
        "colab": {
          "base_uri": "https://localhost:8080/",
          "height": 221
        },
        "outputId": "1bf3960a-a545-4bae-9e0f-c3b99ad74465"
      },
      "source": [
        "dr = DataReader('titanic.csv')\n",
        "dr.df['Embarked']"
      ],
      "execution_count": null,
      "outputs": [
        {
          "output_type": "execute_result",
          "data": {
            "text/plain": [
              "0      S\n",
              "1      C\n",
              "2      S\n",
              "3      S\n",
              "4      S\n",
              "      ..\n",
              "886    S\n",
              "887    S\n",
              "888    S\n",
              "889    C\n",
              "890    Q\n",
              "Name: Embarked, Length: 891, dtype: object"
            ]
          },
          "metadata": {
            "tags": []
          },
          "execution_count": 4
        }
      ]
    },
    {
      "cell_type": "code",
      "metadata": {
        "id": "5GPYzStW_mTB",
        "colab_type": "code",
        "colab": {
          "base_uri": "https://localhost:8080/",
          "height": 51
        },
        "outputId": "71a73d24-371a-43b6-f914-dbdaf18afad8"
      },
      "source": [
        "# column_to_turn_into_categorical_data = 'Embarked'\n",
        "embarked_cat_code_dict = dr.categorical_to_numerical('Embarked')\n",
        "\n",
        "len(dr.df)\n",
        "print(embarked_cat_code_dict)\n",
        "print(len(dr.df))"
      ],
      "execution_count": null,
      "outputs": [
        {
          "output_type": "stream",
          "text": [
            "{'S': 0, 'C': 1, 'Q': 2}\n",
            "889\n"
          ],
          "name": "stdout"
        }
      ]
    },
    {
      "cell_type": "code",
      "metadata": {
        "id": "fNTd1R1VBCPw",
        "colab_type": "code",
        "colab": {
          "base_uri": "https://localhost:8080/",
          "height": 85
        },
        "outputId": "146139d0-94d1-44f3-ea3a-814f4daed702"
      },
      "source": [
        "dr.value_counts('Embarked')"
      ],
      "execution_count": null,
      "outputs": [
        {
          "output_type": "execute_result",
          "data": {
            "text/plain": [
              "0    644\n",
              "1    168\n",
              "2     77\n",
              "Name: Embarked, dtype: int64"
            ]
          },
          "metadata": {
            "tags": []
          },
          "execution_count": 6
        }
      ]
    },
    {
      "cell_type": "code",
      "metadata": {
        "id": "IwH51vqCBL3j",
        "colab_type": "code",
        "colab": {}
      },
      "source": [
        "train, test = dr.train_test_split(66)"
      ],
      "execution_count": null,
      "outputs": []
    },
    {
      "cell_type": "code",
      "metadata": {
        "id": "--e1kaNCEg05",
        "colab_type": "code",
        "colab": {
          "base_uri": "https://localhost:8080/",
          "height": 238
        },
        "outputId": "e859c803-f3e2-4f96-e193-0171067a8bf3"
      },
      "source": [
        "train.head(5)"
      ],
      "execution_count": null,
      "outputs": [
        {
          "output_type": "execute_result",
          "data": {
            "text/html": [
              "<div>\n",
              "<style scoped>\n",
              "    .dataframe tbody tr th:only-of-type {\n",
              "        vertical-align: middle;\n",
              "    }\n",
              "\n",
              "    .dataframe tbody tr th {\n",
              "        vertical-align: top;\n",
              "    }\n",
              "\n",
              "    .dataframe thead th {\n",
              "        text-align: right;\n",
              "    }\n",
              "</style>\n",
              "<table border=\"1\" class=\"dataframe\">\n",
              "  <thead>\n",
              "    <tr style=\"text-align: right;\">\n",
              "      <th></th>\n",
              "      <th>PassengerId</th>\n",
              "      <th>Survived</th>\n",
              "      <th>Pclass</th>\n",
              "      <th>Name</th>\n",
              "      <th>Sex</th>\n",
              "      <th>Age</th>\n",
              "      <th>SibSp</th>\n",
              "      <th>Parch</th>\n",
              "      <th>Ticket</th>\n",
              "      <th>Fare</th>\n",
              "      <th>Cabin</th>\n",
              "      <th>Embarked</th>\n",
              "    </tr>\n",
              "  </thead>\n",
              "  <tbody>\n",
              "    <tr>\n",
              "      <th>662</th>\n",
              "      <td>663</td>\n",
              "      <td>0</td>\n",
              "      <td>1</td>\n",
              "      <td>Colley, Mr. Edward Pomeroy</td>\n",
              "      <td>male</td>\n",
              "      <td>47.0</td>\n",
              "      <td>0</td>\n",
              "      <td>0</td>\n",
              "      <td>5727</td>\n",
              "      <td>25.5875</td>\n",
              "      <td>E58</td>\n",
              "      <td>0</td>\n",
              "    </tr>\n",
              "    <tr>\n",
              "      <th>510</th>\n",
              "      <td>511</td>\n",
              "      <td>1</td>\n",
              "      <td>3</td>\n",
              "      <td>Daly, Mr. Eugene Patrick</td>\n",
              "      <td>male</td>\n",
              "      <td>29.0</td>\n",
              "      <td>0</td>\n",
              "      <td>0</td>\n",
              "      <td>382651</td>\n",
              "      <td>7.7500</td>\n",
              "      <td>NaN</td>\n",
              "      <td>2</td>\n",
              "    </tr>\n",
              "    <tr>\n",
              "      <th>620</th>\n",
              "      <td>621</td>\n",
              "      <td>0</td>\n",
              "      <td>3</td>\n",
              "      <td>Yasbeck, Mr. Antoni</td>\n",
              "      <td>male</td>\n",
              "      <td>27.0</td>\n",
              "      <td>1</td>\n",
              "      <td>0</td>\n",
              "      <td>2659</td>\n",
              "      <td>14.4542</td>\n",
              "      <td>NaN</td>\n",
              "      <td>1</td>\n",
              "    </tr>\n",
              "    <tr>\n",
              "      <th>68</th>\n",
              "      <td>69</td>\n",
              "      <td>1</td>\n",
              "      <td>3</td>\n",
              "      <td>Andersson, Miss. Erna Alexandra</td>\n",
              "      <td>female</td>\n",
              "      <td>17.0</td>\n",
              "      <td>4</td>\n",
              "      <td>2</td>\n",
              "      <td>3101281</td>\n",
              "      <td>7.9250</td>\n",
              "      <td>NaN</td>\n",
              "      <td>0</td>\n",
              "    </tr>\n",
              "    <tr>\n",
              "      <th>300</th>\n",
              "      <td>301</td>\n",
              "      <td>1</td>\n",
              "      <td>3</td>\n",
              "      <td>Kelly, Miss. Anna Katherine \"Annie Kate\"</td>\n",
              "      <td>female</td>\n",
              "      <td>NaN</td>\n",
              "      <td>0</td>\n",
              "      <td>0</td>\n",
              "      <td>9234</td>\n",
              "      <td>7.7500</td>\n",
              "      <td>NaN</td>\n",
              "      <td>2</td>\n",
              "    </tr>\n",
              "  </tbody>\n",
              "</table>\n",
              "</div>"
            ],
            "text/plain": [
              "     PassengerId  Survived  Pclass  ...     Fare Cabin  Embarked\n",
              "662          663         0       1  ...  25.5875   E58         0\n",
              "510          511         1       3  ...   7.7500   NaN         2\n",
              "620          621         0       3  ...  14.4542   NaN         1\n",
              "68            69         1       3  ...   7.9250   NaN         0\n",
              "300          301         1       3  ...   7.7500   NaN         2\n",
              "\n",
              "[5 rows x 12 columns]"
            ]
          },
          "metadata": {
            "tags": []
          },
          "execution_count": 8
        }
      ]
    },
    {
      "cell_type": "code",
      "metadata": {
        "id": "mFAX8urYE8HQ",
        "colab_type": "code",
        "colab": {
          "base_uri": "https://localhost:8080/",
          "height": 238
        },
        "outputId": "a9bb68ce-e739-46ae-d4f2-af94a6a3fcdc"
      },
      "source": [
        ""
      ],
      "execution_count": null,
      "outputs": [
        {
          "output_type": "execute_result",
          "data": {
            "text/html": [
              "<div>\n",
              "<style scoped>\n",
              "    .dataframe tbody tr th:only-of-type {\n",
              "        vertical-align: middle;\n",
              "    }\n",
              "\n",
              "    .dataframe tbody tr th {\n",
              "        vertical-align: top;\n",
              "    }\n",
              "\n",
              "    .dataframe thead th {\n",
              "        text-align: right;\n",
              "    }\n",
              "</style>\n",
              "<table border=\"1\" class=\"dataframe\">\n",
              "  <thead>\n",
              "    <tr style=\"text-align: right;\">\n",
              "      <th></th>\n",
              "      <th>PassengerId</th>\n",
              "      <th>Survived</th>\n",
              "      <th>Pclass</th>\n",
              "      <th>Name</th>\n",
              "      <th>Sex</th>\n",
              "      <th>Age</th>\n",
              "      <th>SibSp</th>\n",
              "      <th>Parch</th>\n",
              "      <th>Ticket</th>\n",
              "      <th>Fare</th>\n",
              "      <th>Cabin</th>\n",
              "      <th>Embarked</th>\n",
              "    </tr>\n",
              "  </thead>\n",
              "  <tbody>\n",
              "    <tr>\n",
              "      <th>662</th>\n",
              "      <td>663</td>\n",
              "      <td>0</td>\n",
              "      <td>1</td>\n",
              "      <td>Colley, Mr. Edward Pomeroy</td>\n",
              "      <td>male</td>\n",
              "      <td>47.0</td>\n",
              "      <td>0</td>\n",
              "      <td>0</td>\n",
              "      <td>5727</td>\n",
              "      <td>25.5875</td>\n",
              "      <td>E58</td>\n",
              "      <td>0</td>\n",
              "    </tr>\n",
              "    <tr>\n",
              "      <th>510</th>\n",
              "      <td>511</td>\n",
              "      <td>1</td>\n",
              "      <td>3</td>\n",
              "      <td>Daly, Mr. Eugene Patrick</td>\n",
              "      <td>male</td>\n",
              "      <td>29.0</td>\n",
              "      <td>0</td>\n",
              "      <td>0</td>\n",
              "      <td>382651</td>\n",
              "      <td>7.7500</td>\n",
              "      <td>NaN</td>\n",
              "      <td>2</td>\n",
              "    </tr>\n",
              "    <tr>\n",
              "      <th>620</th>\n",
              "      <td>621</td>\n",
              "      <td>0</td>\n",
              "      <td>3</td>\n",
              "      <td>Yasbeck, Mr. Antoni</td>\n",
              "      <td>male</td>\n",
              "      <td>27.0</td>\n",
              "      <td>1</td>\n",
              "      <td>0</td>\n",
              "      <td>2659</td>\n",
              "      <td>14.4542</td>\n",
              "      <td>NaN</td>\n",
              "      <td>1</td>\n",
              "    </tr>\n",
              "    <tr>\n",
              "      <th>68</th>\n",
              "      <td>69</td>\n",
              "      <td>1</td>\n",
              "      <td>3</td>\n",
              "      <td>Andersson, Miss. Erna Alexandra</td>\n",
              "      <td>female</td>\n",
              "      <td>17.0</td>\n",
              "      <td>4</td>\n",
              "      <td>2</td>\n",
              "      <td>3101281</td>\n",
              "      <td>7.9250</td>\n",
              "      <td>NaN</td>\n",
              "      <td>0</td>\n",
              "    </tr>\n",
              "    <tr>\n",
              "      <th>300</th>\n",
              "      <td>301</td>\n",
              "      <td>1</td>\n",
              "      <td>3</td>\n",
              "      <td>Kelly, Miss. Anna Katherine \"Annie Kate\"</td>\n",
              "      <td>female</td>\n",
              "      <td>NaN</td>\n",
              "      <td>0</td>\n",
              "      <td>0</td>\n",
              "      <td>9234</td>\n",
              "      <td>7.7500</td>\n",
              "      <td>NaN</td>\n",
              "      <td>2</td>\n",
              "    </tr>\n",
              "  </tbody>\n",
              "</table>\n",
              "</div>"
            ],
            "text/plain": [
              "     PassengerId  Survived  Pclass  ...     Fare Cabin  Embarked\n",
              "662          663         0       1  ...  25.5875   E58         0\n",
              "510          511         1       3  ...   7.7500   NaN         2\n",
              "620          621         0       3  ...  14.4542   NaN         1\n",
              "68            69         1       3  ...   7.9250   NaN         0\n",
              "300          301         1       3  ...   7.7500   NaN         2\n",
              "\n",
              "[5 rows x 12 columns]"
            ]
          },
          "metadata": {
            "tags": []
          },
          "execution_count": 9
        }
      ]
    },
    {
      "cell_type": "code",
      "metadata": {
        "id": "4hZ87dcHFkAJ",
        "colab_type": "code",
        "colab": {}
      },
      "source": [
        ""
      ],
      "execution_count": null,
      "outputs": []
    }
  ]
}